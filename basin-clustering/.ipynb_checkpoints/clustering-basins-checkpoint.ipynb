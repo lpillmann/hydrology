{
 "cells": [
  {
   "cell_type": "code",
   "execution_count": 1,
   "metadata": {},
   "outputs": [],
   "source": [
    "import pandas as pd\n",
    "import matplotlib.pyplot as plt\n",
    "\n",
    "%matplotlib inline"
   ]
  },
  {
   "cell_type": "code",
   "execution_count": 2,
   "metadata": {},
   "outputs": [],
   "source": [
    "df = pd.read_csv('signatures0227.txt', \n",
    "                 sep='   ', \n",
    "                 header=None,\n",
    "                usecols=[1,2,3,4,5,6,7],\n",
    "                engine='python')\n",
    "\n",
    "X = df.values"
   ]
  },
  {
   "cell_type": "code",
   "execution_count": 3,
   "metadata": {},
   "outputs": [
    {
     "data": {
      "text/html": [
       "<div>\n",
       "<style scoped>\n",
       "    .dataframe tbody tr th:only-of-type {\n",
       "        vertical-align: middle;\n",
       "    }\n",
       "\n",
       "    .dataframe tbody tr th {\n",
       "        vertical-align: top;\n",
       "    }\n",
       "\n",
       "    .dataframe thead th {\n",
       "        text-align: right;\n",
       "    }\n",
       "</style>\n",
       "<table border=\"1\" class=\"dataframe\">\n",
       "  <thead>\n",
       "    <tr style=\"text-align: right;\">\n",
       "      <th></th>\n",
       "      <th>1</th>\n",
       "      <th>2</th>\n",
       "      <th>3</th>\n",
       "      <th>4</th>\n",
       "      <th>5</th>\n",
       "      <th>6</th>\n",
       "      <th>7</th>\n",
       "    </tr>\n",
       "  </thead>\n",
       "  <tbody>\n",
       "    <tr>\n",
       "      <th>0</th>\n",
       "      <td>2.258078</td>\n",
       "      <td>0.673287</td>\n",
       "      <td>0.256584</td>\n",
       "      <td>0.796049</td>\n",
       "      <td>4.595884</td>\n",
       "      <td>3.216975</td>\n",
       "      <td>0.170174</td>\n",
       "    </tr>\n",
       "    <tr>\n",
       "      <th>1</th>\n",
       "      <td>0.963668</td>\n",
       "      <td>0.288116</td>\n",
       "      <td>0.686709</td>\n",
       "      <td>0.891113</td>\n",
       "      <td>1.625685</td>\n",
       "      <td>10.510104</td>\n",
       "      <td>2.670437</td>\n",
       "    </tr>\n",
       "    <tr>\n",
       "      <th>2</th>\n",
       "      <td>1.068744</td>\n",
       "      <td>0.314521</td>\n",
       "      <td>0.679382</td>\n",
       "      <td>0.795126</td>\n",
       "      <td>1.564828</td>\n",
       "      <td>10.156915</td>\n",
       "      <td>2.181557</td>\n",
       "    </tr>\n",
       "    <tr>\n",
       "      <th>3</th>\n",
       "      <td>1.042409</td>\n",
       "      <td>0.324665</td>\n",
       "      <td>0.660663</td>\n",
       "      <td>0.889979</td>\n",
       "      <td>1.294276</td>\n",
       "      <td>8.895913</td>\n",
       "      <td>2.633087</td>\n",
       "    </tr>\n",
       "    <tr>\n",
       "      <th>4</th>\n",
       "      <td>1.781191</td>\n",
       "      <td>0.524947</td>\n",
       "      <td>0.392162</td>\n",
       "      <td>0.815378</td>\n",
       "      <td>3.623607</td>\n",
       "      <td>5.448313</td>\n",
       "      <td>0.179748</td>\n",
       "    </tr>\n",
       "  </tbody>\n",
       "</table>\n",
       "</div>"
      ],
      "text/plain": [
       "          1         2         3         4         5          6         7\n",
       "0  2.258078  0.673287  0.256584  0.796049  4.595884   3.216975  0.170174\n",
       "1  0.963668  0.288116  0.686709  0.891113  1.625685  10.510104  2.670437\n",
       "2  1.068744  0.314521  0.679382  0.795126  1.564828  10.156915  2.181557\n",
       "3  1.042409  0.324665  0.660663  0.889979  1.294276   8.895913  2.633087\n",
       "4  1.781191  0.524947  0.392162  0.815378  3.623607   5.448313  0.179748"
      ]
     },
     "execution_count": 3,
     "metadata": {},
     "output_type": "execute_result"
    }
   ],
   "source": [
    "df.head()"
   ]
  },
  {
   "cell_type": "markdown",
   "metadata": {},
   "source": [
    "### Preparação dos dados"
   ]
  },
  {
   "cell_type": "markdown",
   "metadata": {},
   "source": [
    "#### Normalizar"
   ]
  },
  {
   "cell_type": "code",
   "execution_count": 4,
   "metadata": {},
   "outputs": [],
   "source": [
    "from scipy import stats\n",
    "\n",
    "def normalize(x):\n",
    "    x_normalized, _ = stats.boxcox(x)\n",
    "    return x_normalized\n",
    "\n",
    "df_normalized = df.apply(normalize)\n",
    "\n",
    "X_normalized = df_normalized.values"
   ]
  },
  {
   "cell_type": "code",
   "execution_count": 5,
   "metadata": {},
   "outputs": [
    {
     "data": {
      "text/html": [
       "<div>\n",
       "<style scoped>\n",
       "    .dataframe tbody tr th:only-of-type {\n",
       "        vertical-align: middle;\n",
       "    }\n",
       "\n",
       "    .dataframe tbody tr th {\n",
       "        vertical-align: top;\n",
       "    }\n",
       "\n",
       "    .dataframe thead th {\n",
       "        text-align: right;\n",
       "    }\n",
       "</style>\n",
       "<table border=\"1\" class=\"dataframe\">\n",
       "  <thead>\n",
       "    <tr style=\"text-align: right;\">\n",
       "      <th></th>\n",
       "      <th>1</th>\n",
       "      <th>2</th>\n",
       "      <th>3</th>\n",
       "      <th>4</th>\n",
       "      <th>5</th>\n",
       "      <th>6</th>\n",
       "      <th>7</th>\n",
       "    </tr>\n",
       "  </thead>\n",
       "  <tbody>\n",
       "    <tr>\n",
       "      <th>0</th>\n",
       "      <td>1.097804</td>\n",
       "      <td>-0.446866</td>\n",
       "      <td>-0.861991</td>\n",
       "      <td>-0.176071</td>\n",
       "      <td>1.698130</td>\n",
       "      <td>1.507506</td>\n",
       "      <td>-1.223856</td>\n",
       "    </tr>\n",
       "    <tr>\n",
       "      <th>1</th>\n",
       "      <td>-0.036533</td>\n",
       "      <td>-1.855309</td>\n",
       "      <td>-0.328646</td>\n",
       "      <td>-0.100837</td>\n",
       "      <td>0.502647</td>\n",
       "      <td>4.008608</td>\n",
       "      <td>1.232949</td>\n",
       "    </tr>\n",
       "    <tr>\n",
       "      <th>2</th>\n",
       "      <td>0.068055</td>\n",
       "      <td>-1.674164</td>\n",
       "      <td>-0.336766</td>\n",
       "      <td>-0.176745</td>\n",
       "      <td>0.461946</td>\n",
       "      <td>3.917659</td>\n",
       "      <td>0.933151</td>\n",
       "    </tr>\n",
       "    <tr>\n",
       "      <th>3</th>\n",
       "      <td>0.042144</td>\n",
       "      <td>-1.610915</td>\n",
       "      <td>-0.357614</td>\n",
       "      <td>-0.101804</td>\n",
       "      <td>0.262612</td>\n",
       "      <td>3.577019</td>\n",
       "      <td>1.211177</td>\n",
       "    </tr>\n",
       "    <tr>\n",
       "      <th>4</th>\n",
       "      <td>0.711302</td>\n",
       "      <td>-0.787942</td>\n",
       "      <td>-0.677953</td>\n",
       "      <td>-0.161715</td>\n",
       "      <td>1.409339</td>\n",
       "      <td>2.469489</td>\n",
       "      <td>-1.198731</td>\n",
       "    </tr>\n",
       "  </tbody>\n",
       "</table>\n",
       "</div>"
      ],
      "text/plain": [
       "          1         2         3         4         5         6         7\n",
       "0  1.097804 -0.446866 -0.861991 -0.176071  1.698130  1.507506 -1.223856\n",
       "1 -0.036533 -1.855309 -0.328646 -0.100837  0.502647  4.008608  1.232949\n",
       "2  0.068055 -1.674164 -0.336766 -0.176745  0.461946  3.917659  0.933151\n",
       "3  0.042144 -1.610915 -0.357614 -0.101804  0.262612  3.577019  1.211177\n",
       "4  0.711302 -0.787942 -0.677953 -0.161715  1.409339  2.469489 -1.198731"
      ]
     },
     "execution_count": 5,
     "metadata": {},
     "output_type": "execute_result"
    }
   ],
   "source": [
    "df_normalized.head()"
   ]
  },
  {
   "cell_type": "markdown",
   "metadata": {},
   "source": [
    "#### Padronizar"
   ]
  },
  {
   "cell_type": "code",
   "execution_count": 6,
   "metadata": {},
   "outputs": [],
   "source": [
    "from sklearn.preprocessing import StandardScaler  # For scaling dataset\n",
    "\n",
    "ss = StandardScaler()\n",
    "X_scaled = ss.fit_transform(X_normalized)"
   ]
  },
  {
   "cell_type": "code",
   "execution_count": 7,
   "metadata": {},
   "outputs": [
    {
     "data": {
      "text/plain": [
       "(array([44., 26., 33., 68., 91., 66., 14.,  3.,  1.,  3.]),\n",
       " array([-2.00415257, -1.46697611, -0.92979965, -0.39262318,  0.14455328,\n",
       "         0.68172975,  1.21890621,  1.75608267,  2.29325914,  2.8304356 ,\n",
       "         3.36761207]),\n",
       " <a list of 10 Patch objects>)"
      ]
     },
     "execution_count": 7,
     "metadata": {},
     "output_type": "execute_result"
    },
    {
     "data": {
      "image/png": "[encoded data removed]",
      "text/plain": [
       "<matplotlib.figure.Figure at 0x11ba24550>"
      ]
     },
     "metadata": {},
     "output_type": "display_data"
    }
   ],
   "source": [
    "plt.hist(X_scaled.T[0], alpha=0.5)\n",
    "plt.hist(X_scaled.T[1], alpha=0.5)\n",
    "plt.hist(X_scaled.T[2], alpha=0.5)\n",
    "plt.hist(X_scaled.T[3], alpha=0.5)\n",
    "plt.hist(X_scaled.T[4], alpha=0.5)\n",
    "plt.hist(X_scaled.T[5], alpha=0.5)\n",
    "plt.hist(X_scaled.T[6], alpha=0.5)"
   ]
  },
  {
   "cell_type": "markdown",
   "metadata": {},
   "source": [
    "#### Split de treino e teste"
   ]
  },
  {
   "cell_type": "code",
   "execution_count": 8,
   "metadata": {},
   "outputs": [],
   "source": [
    "from sklearn.model_selection import train_test_split\n",
    "\n",
    "X_train, X_test, _, _ = train_test_split(X_scaled, X_scaled, test_size=0.33, random_state=42)"
   ]
  },
  {
   "cell_type": "code",
   "execution_count": 9,
   "metadata": {},
   "outputs": [
    {
     "data": {
      "text/plain": [
       "233"
      ]
     },
     "execution_count": 9,
     "metadata": {},
     "output_type": "execute_result"
    }
   ],
   "source": [
    "len(X_train)"
   ]
  },
  {
   "cell_type": "code",
   "execution_count": 10,
   "metadata": {},
   "outputs": [
    {
     "data": {
      "text/plain": [
       "116"
      ]
     },
     "execution_count": 10,
     "metadata": {},
     "output_type": "execute_result"
    }
   ],
   "source": [
    "len(X_test)"
   ]
  },
  {
   "cell_type": "markdown",
   "metadata": {},
   "source": [
    "### Clustering"
   ]
  },
  {
   "cell_type": "code",
   "execution_count": 18,
   "metadata": {},
   "outputs": [],
   "source": [
    "from sklearn.cluster import KMeans\n",
    "import numpy as np\n",
    "\n",
    "kmeans = KMeans(n_clusters=4, random_state=0, verbose=0).fit(X_scaled)"
   ]
  },
  {
   "cell_type": "code",
   "execution_count": 19,
   "metadata": {},
   "outputs": [
    {
     "data": {
      "text/plain": [
       "array([0, 2, 2, 2, 2, 2, 2, 0, 0, 2, 1, 0, 0, 0, 0, 0, 0, 0, 0, 3, 0, 0,\n",
       "       0, 0, 0, 0, 2, 2, 2, 3, 0, 2, 2, 1, 1, 1, 3, 3, 3, 3, 3, 3, 3, 1,\n",
       "       1, 3, 3, 3, 3, 1, 3, 1, 1, 0, 1, 3, 3, 3, 3, 3, 1, 1, 1, 1, 1, 1,\n",
       "       1, 1, 1, 1, 1, 1, 1, 1, 1, 1, 1, 1, 1, 1, 1, 1, 1, 1, 1, 1, 1, 1,\n",
       "       1, 1, 1, 1, 1, 1, 1, 1, 1, 1, 1, 1, 1, 0, 0, 0, 0, 0, 0, 0, 0, 0,\n",
       "       0, 0, 1, 0, 0, 0, 0, 0, 0, 1, 0, 3, 1, 3, 3, 3, 3, 3, 3, 3, 3, 3,\n",
       "       3, 3, 3, 3, 3, 3, 3, 3, 3, 1, 1, 1, 1, 1, 1, 1, 1, 1, 1, 1, 1, 1,\n",
       "       1, 1, 1, 1, 1, 0, 0, 1, 0, 0, 1, 1, 1, 0, 0, 0, 0, 0, 0, 0, 0, 0,\n",
       "       0, 0, 0, 0, 0, 0, 0, 0, 0, 0, 0, 0, 0, 0, 3, 3, 0, 0, 3, 0, 0, 0,\n",
       "       0, 0, 0, 0, 0, 0, 0, 0, 0, 0, 0, 0, 0, 0, 0, 0, 0, 0, 0, 0, 0, 0,\n",
       "       0, 0, 0, 0, 0, 0, 3, 3, 3, 3, 0, 0, 0, 0, 0, 0, 0, 0, 0, 0, 0, 0,\n",
       "       0, 0, 0, 0, 0, 0, 0, 0, 0, 0, 0, 3, 0, 3, 0, 0, 0, 0, 0, 0, 3, 0,\n",
       "       0, 2, 0, 0, 2, 2, 2, 2, 0, 2, 0, 3, 2, 2, 2, 2, 2, 0, 0, 2, 2, 2,\n",
       "       2, 0, 2, 0, 2, 2, 2, 2, 2, 0, 0, 2, 0, 0, 0, 0, 0, 0, 0, 3, 2, 2,\n",
       "       2, 2, 2, 2, 2, 2, 2, 2, 2, 2, 2, 2, 2, 2, 2, 2, 2, 2, 2, 2, 2, 2,\n",
       "       2, 2, 2, 2, 2, 2, 0, 0, 0, 0, 0, 0, 2, 2, 2, 2, 2, 2, 2],\n",
       "      dtype=int32)"
      ]
     },
     "execution_count": 19,
     "metadata": {},
     "output_type": "execute_result"
    }
   ],
   "source": [
    "kmeans.labels_"
   ]
  },
  {
   "cell_type": "code",
   "execution_count": 20,
   "metadata": {},
   "outputs": [
    {
     "data": {
      "text/plain": [
       "array([[ 0.13693228, -0.20693386,  0.2037708 ,  0.33114458, -0.19122718,\n",
       "         0.18318005,  0.41409279],\n",
       "       [ 0.64039539,  1.28674974, -1.21381151, -0.9182998 ,  0.91017163,\n",
       "        -1.16397879, -1.49234834],\n",
       "       [ 0.11787178, -1.26069405,  1.24264783, -0.76478772,  0.52246799,\n",
       "         1.38605505,  0.43156101],\n",
       "       [-1.55705305,  0.46340489, -0.53902966,  1.47513474, -1.54403481,\n",
       "        -0.75581776,  0.39671075]])"
      ]
     },
     "execution_count": 20,
     "metadata": {},
     "output_type": "execute_result"
    }
   ],
   "source": [
    "kmeans.cluster_centers_"
   ]
  },
  {
   "cell_type": "code",
   "execution_count": 21,
   "metadata": {},
   "outputs": [],
   "source": [
    "dfc = pd.DataFrame(X_scaled)"
   ]
  },
  {
   "cell_type": "markdown",
   "metadata": {},
   "source": [
    "#### Plot results"
   ]
  },
  {
   "cell_type": "code",
   "execution_count": 24,
   "metadata": {},
   "outputs": [],
   "source": [
    "dfc['cluster'] = kmeans.labels_"
   ]
  },
  {
   "cell_type": "code",
   "execution_count": 25,
   "metadata": {},
   "outputs": [
    {
     "data": {
      "text/html": [
       "<div>\n",
       "<style scoped>\n",
       "    .dataframe tbody tr th:only-of-type {\n",
       "        vertical-align: middle;\n",
       "    }\n",
       "\n",
       "    .dataframe tbody tr th {\n",
       "        vertical-align: top;\n",
       "    }\n",
       "\n",
       "    .dataframe thead th {\n",
       "        text-align: right;\n",
       "    }\n",
       "</style>\n",
       "<table border=\"1\" class=\"dataframe\">\n",
       "  <thead>\n",
       "    <tr style=\"text-align: right;\">\n",
       "      <th></th>\n",
       "      <th>0</th>\n",
       "      <th>1</th>\n",
       "      <th>2</th>\n",
       "      <th>3</th>\n",
       "      <th>4</th>\n",
       "      <th>5</th>\n",
       "      <th>6</th>\n",
       "      <th>cluster</th>\n",
       "    </tr>\n",
       "  </thead>\n",
       "  <tbody>\n",
       "    <tr>\n",
       "      <th>0</th>\n",
       "      <td>0.406927</td>\n",
       "      <td>-0.507879</td>\n",
       "      <td>-0.231397</td>\n",
       "      <td>0.210365</td>\n",
       "      <td>1.556572</td>\n",
       "      <td>0.506412</td>\n",
       "      <td>-0.504655</td>\n",
       "      <td>0</td>\n",
       "    </tr>\n",
       "    <tr>\n",
       "      <th>1</th>\n",
       "      <td>-1.313495</td>\n",
       "      <td>-4.017164</td>\n",
       "      <td>2.212009</td>\n",
       "      <td>1.189031</td>\n",
       "      <td>-0.336844</td>\n",
       "      <td>2.641272</td>\n",
       "      <td>3.367612</td>\n",
       "      <td>2</td>\n",
       "    </tr>\n",
       "    <tr>\n",
       "      <th>2</th>\n",
       "      <td>-1.154869</td>\n",
       "      <td>-3.565823</td>\n",
       "      <td>2.174813</td>\n",
       "      <td>0.201604</td>\n",
       "      <td>-0.401306</td>\n",
       "      <td>2.563642</td>\n",
       "      <td>2.895089</td>\n",
       "      <td>2</td>\n",
       "    </tr>\n",
       "    <tr>\n",
       "      <th>3</th>\n",
       "      <td>-1.194167</td>\n",
       "      <td>-3.408230</td>\n",
       "      <td>2.079298</td>\n",
       "      <td>1.176454</td>\n",
       "      <td>-0.717013</td>\n",
       "      <td>2.272882</td>\n",
       "      <td>3.333297</td>\n",
       "      <td>2</td>\n",
       "    </tr>\n",
       "    <tr>\n",
       "      <th>4</th>\n",
       "      <td>-0.179271</td>\n",
       "      <td>-1.357706</td>\n",
       "      <td>0.611733</td>\n",
       "      <td>0.397114</td>\n",
       "      <td>1.099181</td>\n",
       "      <td>1.327530</td>\n",
       "      <td>-0.465054</td>\n",
       "      <td>2</td>\n",
       "    </tr>\n",
       "  </tbody>\n",
       "</table>\n",
       "</div>"
      ],
      "text/plain": [
       "          0         1         2         3         4         5         6  \\\n",
       "0  0.406927 -0.507879 -0.231397  0.210365  1.556572  0.506412 -0.504655   \n",
       "1 -1.313495 -4.017164  2.212009  1.189031 -0.336844  2.641272  3.367612   \n",
       "2 -1.154869 -3.565823  2.174813  0.201604 -0.401306  2.563642  2.895089   \n",
       "3 -1.194167 -3.408230  2.079298  1.176454 -0.717013  2.272882  3.333297   \n",
       "4 -0.179271 -1.357706  0.611733  0.397114  1.099181  1.327530 -0.465054   \n",
       "\n",
       "   cluster  \n",
       "0        0  \n",
       "1        2  \n",
       "2        2  \n",
       "3        2  \n",
       "4        2  "
      ]
     },
     "execution_count": 25,
     "metadata": {},
     "output_type": "execute_result"
    }
   ],
   "source": [
    "dfc.head()"
   ]
  },
  {
   "cell_type": "code",
   "execution_count": 26,
   "metadata": {},
   "outputs": [
    {
     "data": {
      "text/plain": [
       "<matplotlib.collections.PathCollection at 0x11e73a860>"
      ]
     },
     "execution_count": 26,
     "metadata": {},
     "output_type": "execute_result"
    },
    {
     "data": {
      "image/png": "[encoded data removed]",
      "text/plain": [
       "<matplotlib.figure.Figure at 0x11e5f64a8>"
      ]
     },
     "metadata": {},
     "output_type": "display_data"
    }
   ],
   "source": [
    "plt.scatter(dfc[0], dfc[1], c=dfc['cluster'])"
   ]
  },
  {
   "cell_type": "code",
   "execution_count": null,
   "metadata": {},
   "outputs": [],
   "source": []
  }
 ],
 "metadata": {
  "kernelspec": {
   "display_name": "Python 3",
   "language": "python",
   "name": "python3"
  },
  "language_info": {
   "codemirror_mode": {
    "name": "ipython",
    "version": 3
   },
   "file_extension": ".py",
   "mimetype": "text/x-python",
   "name": "python",
   "nbconvert_exporter": "python",
   "pygments_lexer": "ipython3",
   "version": "3.6.7"
  }
 },
 "nbformat": 4,
 "nbformat_minor": 2
}
