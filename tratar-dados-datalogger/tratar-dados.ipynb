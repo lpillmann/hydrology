{
 "cells": [
  {
   "cell_type": "markdown",
   "metadata": {},
   "source": [
    "# Tratar dados concatenados do Data Logger\n",
    "Este notebook utiliza a biblioteca Pandas para tratar os dados concatenados no notebook `concatenar-dados-datalogger`.\n",
    "\n",
    "---"
   ]
  },
  {
   "cell_type": "code",
   "execution_count": 1,
   "metadata": {
    "collapsed": true
   },
   "outputs": [],
   "source": [
    "%matplotlib inline\n",
    "\n",
    "import pandas as pd\n",
    "import numpy as np\n",
    "import matplotlib\n",
    "import matplotlib.pyplot as plt\n",
    "\n",
    "# Charts styling\n",
    "#plt.style.use('fivethirtyeight')\n",
    "#plt.style.use('bmh')\n",
    "plt.style.use('ggplot')\n",
    "from pylab import rcParams\n",
    "rcParams['figure.figsize'] = 15, 8 # increases figure size\n",
    "matplotlib.rcParams.update({'font.size': 14}) # increases chart font size\n",
    "rcParams['font.family'] = 'Arial Narrow'"
   ]
  },
  {
   "cell_type": "markdown",
   "metadata": {},
   "source": [
    "## Dados bacia RB01"
   ]
  },
  {
   "cell_type": "markdown",
   "metadata": {},
   "source": [
    "### Tratamento e limpeza dos dados"
   ]
  },
  {
   "cell_type": "code",
   "execution_count": 2,
   "metadata": {},
   "outputs": [
    {
     "data": {
      "text/html": [
       "<div>\n",
       "<style>\n",
       "    .dataframe thead tr:only-child th {\n",
       "        text-align: right;\n",
       "    }\n",
       "\n",
       "    .dataframe thead th {\n",
       "        text-align: left;\n",
       "    }\n",
       "\n",
       "    .dataframe tbody tr th {\n",
       "        vertical-align: top;\n",
       "    }\n",
       "</style>\n",
       "<table border=\"1\" class=\"dataframe\">\n",
       "  <thead>\n",
       "    <tr style=\"text-align: right;\">\n",
       "      <th></th>\n",
       "      <th>Date</th>\n",
       "      <th>Time</th>\n",
       "      <th>Batt</th>\n",
       "      <th>SDI21</th>\n",
       "      <th>SDI22</th>\n",
       "      <th>SDI11</th>\n",
       "      <th>SDI01</th>\n",
       "      <th>SDI07</th>\n",
       "    </tr>\n",
       "  </thead>\n",
       "  <tbody>\n",
       "    <tr>\n",
       "      <th>0</th>\n",
       "      <td>16/03/11</td>\n",
       "      <td>11:30:00</td>\n",
       "      <td>12.76</td>\n",
       "      <td>1.11</td>\n",
       "      <td>4</td>\n",
       "      <td>1.02</td>\n",
       "      <td>15.0</td>\n",
       "      <td>17.8</td>\n",
       "    </tr>\n",
       "    <tr>\n",
       "      <th>1</th>\n",
       "      <td>16/03/11</td>\n",
       "      <td>11:40:00</td>\n",
       "      <td>12.76</td>\n",
       "      <td>0.00</td>\n",
       "      <td>0</td>\n",
       "      <td>1.02</td>\n",
       "      <td>15.0</td>\n",
       "      <td>17.8</td>\n",
       "    </tr>\n",
       "    <tr>\n",
       "      <th>2</th>\n",
       "      <td>16/03/11</td>\n",
       "      <td>11:50:00</td>\n",
       "      <td>13.07</td>\n",
       "      <td>0.00</td>\n",
       "      <td>0</td>\n",
       "      <td>1.02</td>\n",
       "      <td>14.0</td>\n",
       "      <td>17.8</td>\n",
       "    </tr>\n",
       "    <tr>\n",
       "      <th>3</th>\n",
       "      <td>16/03/11</td>\n",
       "      <td>12:00:00</td>\n",
       "      <td>13.15</td>\n",
       "      <td>0.00</td>\n",
       "      <td>0</td>\n",
       "      <td>1.02</td>\n",
       "      <td>14.0</td>\n",
       "      <td>17.9</td>\n",
       "    </tr>\n",
       "    <tr>\n",
       "      <th>4</th>\n",
       "      <td>16/03/11</td>\n",
       "      <td>12:10:00</td>\n",
       "      <td>12.84</td>\n",
       "      <td>0.00</td>\n",
       "      <td>0</td>\n",
       "      <td>1.02</td>\n",
       "      <td>13.0</td>\n",
       "      <td>17.9</td>\n",
       "    </tr>\n",
       "  </tbody>\n",
       "</table>\n",
       "</div>"
      ],
      "text/plain": [
       "       Date      Time   Batt  SDI21  SDI22  SDI11  SDI01  SDI07\n",
       "0  16/03/11  11:30:00  12.76   1.11      4   1.02   15.0   17.8\n",
       "1  16/03/11  11:40:00  12.76   0.00      0   1.02   15.0   17.8\n",
       "2  16/03/11  11:50:00  13.07   0.00      0   1.02   14.0   17.8\n",
       "3  16/03/11  12:00:00  13.15   0.00      0   1.02   14.0   17.9\n",
       "4  16/03/11  12:10:00  12.84   0.00      0   1.02   13.0   17.9"
      ]
     },
     "execution_count": 2,
     "metadata": {},
     "output_type": "execute_result"
    }
   ],
   "source": [
    "# Loads data from CSV file to Pandas DataFrame object\n",
    "df1 = pd.read_csv('RB01_dados_concatenados.csv')\n",
    "df1.head()"
   ]
  },
  {
   "cell_type": "code",
   "execution_count": 3,
   "metadata": {
    "scrolled": true
   },
   "outputs": [
    {
     "data": {
      "text/html": [
       "<div>\n",
       "<style>\n",
       "    .dataframe thead tr:only-child th {\n",
       "        text-align: right;\n",
       "    }\n",
       "\n",
       "    .dataframe thead th {\n",
       "        text-align: left;\n",
       "    }\n",
       "\n",
       "    .dataframe tbody tr th {\n",
       "        vertical-align: top;\n",
       "    }\n",
       "</style>\n",
       "<table border=\"1\" class=\"dataframe\">\n",
       "  <thead>\n",
       "    <tr style=\"text-align: right;\">\n",
       "      <th></th>\n",
       "      <th>Precipitation</th>\n",
       "      <th>Level</th>\n",
       "      <th>Year</th>\n",
       "      <th>Day_year</th>\n",
       "      <th>Hour_day</th>\n",
       "    </tr>\n",
       "  </thead>\n",
       "  <tbody>\n",
       "    <tr>\n",
       "      <th>2011-01-04 00:00:00</th>\n",
       "      <td>0.0</td>\n",
       "      <td>1.55</td>\n",
       "      <td>2011.0</td>\n",
       "      <td>4.0</td>\n",
       "      <td>0.000000</td>\n",
       "    </tr>\n",
       "    <tr>\n",
       "      <th>2011-01-04 00:10:00</th>\n",
       "      <td>0.0</td>\n",
       "      <td>1.55</td>\n",
       "      <td>2011.0</td>\n",
       "      <td>4.0</td>\n",
       "      <td>0.166667</td>\n",
       "    </tr>\n",
       "    <tr>\n",
       "      <th>2011-01-04 00:20:00</th>\n",
       "      <td>0.0</td>\n",
       "      <td>1.55</td>\n",
       "      <td>2011.0</td>\n",
       "      <td>4.0</td>\n",
       "      <td>0.333333</td>\n",
       "    </tr>\n",
       "    <tr>\n",
       "      <th>2011-01-04 00:30:00</th>\n",
       "      <td>0.0</td>\n",
       "      <td>1.54</td>\n",
       "      <td>2011.0</td>\n",
       "      <td>4.0</td>\n",
       "      <td>0.500000</td>\n",
       "    </tr>\n",
       "    <tr>\n",
       "      <th>2011-01-04 00:40:00</th>\n",
       "      <td>0.0</td>\n",
       "      <td>1.54</td>\n",
       "      <td>2011.0</td>\n",
       "      <td>4.0</td>\n",
       "      <td>0.666667</td>\n",
       "    </tr>\n",
       "  </tbody>\n",
       "</table>\n",
       "</div>"
      ],
      "text/plain": [
       "                     Precipitation  Level    Year  Day_year  Hour_day\n",
       "2011-01-04 00:00:00            0.0   1.55  2011.0       4.0  0.000000\n",
       "2011-01-04 00:10:00            0.0   1.55  2011.0       4.0  0.166667\n",
       "2011-01-04 00:20:00            0.0   1.55  2011.0       4.0  0.333333\n",
       "2011-01-04 00:30:00            0.0   1.54  2011.0       4.0  0.500000\n",
       "2011-01-04 00:40:00            0.0   1.54  2011.0       4.0  0.666667"
      ]
     },
     "execution_count": 3,
     "metadata": {},
     "output_type": "execute_result"
    }
   ],
   "source": [
    "# Drops unused columns and renames some\n",
    "df1 = df1.drop(['Batt', 'SDI22', 'SDI01','SDI07'], axis=1)\n",
    "df1 = df1.rename(index=str, columns={\"SDI21\": \"Precipitation\", \"SDI11\": \"Level\"})\n",
    "\n",
    "# Manipulates DataFrame to create datetime format index\n",
    "df1['Datetime'] = df1['Date'] + ' ' + df1['Time']\n",
    "df1['Datetime'] = pd.to_datetime(df1['Datetime'])\n",
    "df1 = df1.drop(['Date', 'Time'], axis=1)\n",
    "df1 = df1.set_index('Datetime')\n",
    "\n",
    "# Creates additional necessary columns \n",
    "df1['Year'] = df1.index.year\n",
    "df1['Day_year'] = df1.index.dayofyear\n",
    "df1['Hour_day'] = df1.index.hour + df1.index.minute/60\n",
    "\n",
    "# Fill the gaps by 'reindexing' from a perfectly spaced series (10min) \n",
    "idx = pd.date_range(df1.index.min(), df1.index.max(), freq='10min')\n",
    "df1 = df1.reindex(idx)\n",
    "\n",
    "df1.head()"
   ]
  },
  {
   "cell_type": "code",
   "execution_count": 4,
   "metadata": {
    "collapsed": true
   },
   "outputs": [],
   "source": [
    "# Saves file to CSV and Excel\n",
    "df1.to_csv('RB01_dados_limpos.csv')\n",
    "df1.to_excel('RB01_dados_limpos.xlsx')"
   ]
  },
  {
   "cell_type": "markdown",
   "metadata": {},
   "source": [
    "### Análises"
   ]
  },
  {
   "cell_type": "code",
   "execution_count": 5,
   "metadata": {
    "collapsed": true
   },
   "outputs": [],
   "source": [
    "df = df1 # makes a copy "
   ]
  },
  {
   "cell_type": "code",
   "execution_count": 6,
   "metadata": {},
   "outputs": [
    {
     "data": {
      "text/html": [
       "<div>\n",
       "<style>\n",
       "    .dataframe thead tr:only-child th {\n",
       "        text-align: right;\n",
       "    }\n",
       "\n",
       "    .dataframe thead th {\n",
       "        text-align: left;\n",
       "    }\n",
       "\n",
       "    .dataframe tbody tr th {\n",
       "        vertical-align: top;\n",
       "    }\n",
       "</style>\n",
       "<table border=\"1\" class=\"dataframe\">\n",
       "  <thead>\n",
       "    <tr style=\"text-align: right;\">\n",
       "      <th></th>\n",
       "      <th>Precipitation</th>\n",
       "      <th>Level</th>\n",
       "      <th>Year</th>\n",
       "      <th>Day_year</th>\n",
       "      <th>Hour_day</th>\n",
       "    </tr>\n",
       "  </thead>\n",
       "  <tbody>\n",
       "    <tr>\n",
       "      <th>2011-01-04 00:00:00</th>\n",
       "      <td>0.0</td>\n",
       "      <td>1.55</td>\n",
       "      <td>2011.0</td>\n",
       "      <td>4.0</td>\n",
       "      <td>0.000000</td>\n",
       "    </tr>\n",
       "    <tr>\n",
       "      <th>2011-01-04 00:10:00</th>\n",
       "      <td>0.0</td>\n",
       "      <td>1.55</td>\n",
       "      <td>2011.0</td>\n",
       "      <td>4.0</td>\n",
       "      <td>0.166667</td>\n",
       "    </tr>\n",
       "    <tr>\n",
       "      <th>2011-01-04 00:20:00</th>\n",
       "      <td>0.0</td>\n",
       "      <td>1.55</td>\n",
       "      <td>2011.0</td>\n",
       "      <td>4.0</td>\n",
       "      <td>0.333333</td>\n",
       "    </tr>\n",
       "    <tr>\n",
       "      <th>2011-01-04 00:30:00</th>\n",
       "      <td>0.0</td>\n",
       "      <td>1.54</td>\n",
       "      <td>2011.0</td>\n",
       "      <td>4.0</td>\n",
       "      <td>0.500000</td>\n",
       "    </tr>\n",
       "    <tr>\n",
       "      <th>2011-01-04 00:40:00</th>\n",
       "      <td>0.0</td>\n",
       "      <td>1.54</td>\n",
       "      <td>2011.0</td>\n",
       "      <td>4.0</td>\n",
       "      <td>0.666667</td>\n",
       "    </tr>\n",
       "  </tbody>\n",
       "</table>\n",
       "</div>"
      ],
      "text/plain": [
       "                     Precipitation  Level    Year  Day_year  Hour_day\n",
       "2011-01-04 00:00:00            0.0   1.55  2011.0       4.0  0.000000\n",
       "2011-01-04 00:10:00            0.0   1.55  2011.0       4.0  0.166667\n",
       "2011-01-04 00:20:00            0.0   1.55  2011.0       4.0  0.333333\n",
       "2011-01-04 00:30:00            0.0   1.54  2011.0       4.0  0.500000\n",
       "2011-01-04 00:40:00            0.0   1.54  2011.0       4.0  0.666667"
      ]
     },
     "execution_count": 6,
     "metadata": {},
     "output_type": "execute_result"
    }
   ],
   "source": [
    "df.head()"
   ]
  },
  {
   "cell_type": "code",
   "execution_count": 7,
   "metadata": {},
   "outputs": [
    {
     "data": {
      "text/plain": [
       "<matplotlib.axes._subplots.AxesSubplot at 0x112251390>"
      ]
     },
     "execution_count": 7,
     "metadata": {},
     "output_type": "execute_result"
    },
    {
     "data": {
      "image/png": "[encoded data removed]",
      "text/plain": [
       "<matplotlib.figure.Figure at 0x1122ebd30>"
      ]
     },
     "metadata": {},
     "output_type": "display_data"
    }
   ],
   "source": [
    "df[['Precipitation', 'Level']] \\\n",
    "    .resample('12M')\\\n",
    "    .apply(['sum', 'mean'])\\\n",
    "    .plot()"
   ]
  },
  {
   "cell_type": "code",
   "execution_count": null,
   "metadata": {
    "collapsed": true
   },
   "outputs": [],
   "source": []
  },
  {
   "cell_type": "code",
   "execution_count": null,
   "metadata": {
    "collapsed": true
   },
   "outputs": [],
   "source": []
  },
  {
   "cell_type": "code",
   "execution_count": null,
   "metadata": {
    "collapsed": true
   },
   "outputs": [],
   "source": []
  },
  {
   "cell_type": "code",
   "execution_count": null,
   "metadata": {
    "collapsed": true
   },
   "outputs": [],
   "source": []
  },
  {
   "cell_type": "code",
   "execution_count": null,
   "metadata": {
    "collapsed": true
   },
   "outputs": [],
   "source": []
  },
  {
   "cell_type": "markdown",
   "metadata": {},
   "source": [
    "## Dados bacia RB10"
   ]
  },
  {
   "cell_type": "code",
   "execution_count": 8,
   "metadata": {
    "scrolled": true
   },
   "outputs": [
    {
     "data": {
      "text/html": [
       "<div>\n",
       "<style>\n",
       "    .dataframe thead tr:only-child th {\n",
       "        text-align: right;\n",
       "    }\n",
       "\n",
       "    .dataframe thead th {\n",
       "        text-align: left;\n",
       "    }\n",
       "\n",
       "    .dataframe tbody tr th {\n",
       "        vertical-align: top;\n",
       "    }\n",
       "</style>\n",
       "<table border=\"1\" class=\"dataframe\">\n",
       "  <thead>\n",
       "    <tr style=\"text-align: right;\">\n",
       "      <th></th>\n",
       "      <th>Date</th>\n",
       "      <th>Time</th>\n",
       "      <th>Batt</th>\n",
       "      <th>SDI01</th>\n",
       "      <th>SDI07</th>\n",
       "      <th>Ana1</th>\n",
       "    </tr>\n",
       "  </thead>\n",
       "  <tbody>\n",
       "    <tr>\n",
       "      <th>0</th>\n",
       "      <td>16/12/11</td>\n",
       "      <td>13:10:00</td>\n",
       "      <td>14.08</td>\n",
       "      <td>2.92</td>\n",
       "      <td>20.6</td>\n",
       "      <td>0.092</td>\n",
       "    </tr>\n",
       "    <tr>\n",
       "      <th>1</th>\n",
       "      <td>16/12/11</td>\n",
       "      <td>13:20:00</td>\n",
       "      <td>14.08</td>\n",
       "      <td>3.41</td>\n",
       "      <td>20.7</td>\n",
       "      <td>0.091</td>\n",
       "    </tr>\n",
       "    <tr>\n",
       "      <th>2</th>\n",
       "      <td>16/12/11</td>\n",
       "      <td>13:30:00</td>\n",
       "      <td>14.08</td>\n",
       "      <td>2.66</td>\n",
       "      <td>20.9</td>\n",
       "      <td>0.091</td>\n",
       "    </tr>\n",
       "    <tr>\n",
       "      <th>3</th>\n",
       "      <td>16/12/11</td>\n",
       "      <td>13:40:00</td>\n",
       "      <td>13.92</td>\n",
       "      <td>3.23</td>\n",
       "      <td>21.0</td>\n",
       "      <td>0.091</td>\n",
       "    </tr>\n",
       "    <tr>\n",
       "      <th>4</th>\n",
       "      <td>16/12/11</td>\n",
       "      <td>13:50:00</td>\n",
       "      <td>14.08</td>\n",
       "      <td>2.89</td>\n",
       "      <td>20.7</td>\n",
       "      <td>0.092</td>\n",
       "    </tr>\n",
       "  </tbody>\n",
       "</table>\n",
       "</div>"
      ],
      "text/plain": [
       "       Date      Time   Batt  SDI01  SDI07   Ana1\n",
       "0  16/12/11  13:10:00  14.08   2.92   20.6  0.092\n",
       "1  16/12/11  13:20:00  14.08   3.41   20.7  0.091\n",
       "2  16/12/11  13:30:00  14.08   2.66   20.9  0.091\n",
       "3  16/12/11  13:40:00  13.92   3.23   21.0  0.091\n",
       "4  16/12/11  13:50:00  14.08   2.89   20.7  0.092"
      ]
     },
     "execution_count": 8,
     "metadata": {},
     "output_type": "execute_result"
    }
   ],
   "source": [
    "# Loads data from CSV file to Pandas DataFrame object\n",
    "df2 = pd.read_csv('RB10_dados_concatenados.csv')\n",
    "df2.head()"
   ]
  },
  {
   "cell_type": "markdown",
   "metadata": {},
   "source": [
    "## Dados bacia RB11"
   ]
  },
  {
   "cell_type": "code",
   "execution_count": 9,
   "metadata": {
    "scrolled": true
   },
   "outputs": [
    {
     "data": {
      "text/html": [
       "<div>\n",
       "<style>\n",
       "    .dataframe thead tr:only-child th {\n",
       "        text-align: right;\n",
       "    }\n",
       "\n",
       "    .dataframe thead th {\n",
       "        text-align: left;\n",
       "    }\n",
       "\n",
       "    .dataframe tbody tr th {\n",
       "        vertical-align: top;\n",
       "    }\n",
       "</style>\n",
       "<table border=\"1\" class=\"dataframe\">\n",
       "  <thead>\n",
       "    <tr style=\"text-align: right;\">\n",
       "      <th></th>\n",
       "      <th>Date</th>\n",
       "      <th>Time</th>\n",
       "      <th>Batt</th>\n",
       "      <th>SDI01</th>\n",
       "      <th>SDI07</th>\n",
       "      <th>Ana1</th>\n",
       "    </tr>\n",
       "  </thead>\n",
       "  <tbody>\n",
       "    <tr>\n",
       "      <th>0</th>\n",
       "      <td>16/12/11</td>\n",
       "      <td>10:30:00</td>\n",
       "      <td>13.43</td>\n",
       "      <td>2.44</td>\n",
       "      <td>17.6</td>\n",
       "      <td>0.060</td>\n",
       "    </tr>\n",
       "    <tr>\n",
       "      <th>1</th>\n",
       "      <td>16/12/11</td>\n",
       "      <td>10:40:00</td>\n",
       "      <td>13.51</td>\n",
       "      <td>2.36</td>\n",
       "      <td>17.7</td>\n",
       "      <td>0.059</td>\n",
       "    </tr>\n",
       "    <tr>\n",
       "      <th>2</th>\n",
       "      <td>16/12/11</td>\n",
       "      <td>10:50:00</td>\n",
       "      <td>13.59</td>\n",
       "      <td>2.39</td>\n",
       "      <td>17.8</td>\n",
       "      <td>0.059</td>\n",
       "    </tr>\n",
       "    <tr>\n",
       "      <th>3</th>\n",
       "      <td>16/12/11</td>\n",
       "      <td>11:00:00</td>\n",
       "      <td>13.67</td>\n",
       "      <td>2.25</td>\n",
       "      <td>17.9</td>\n",
       "      <td>0.059</td>\n",
       "    </tr>\n",
       "    <tr>\n",
       "      <th>4</th>\n",
       "      <td>16/12/11</td>\n",
       "      <td>11:10:00</td>\n",
       "      <td>13.67</td>\n",
       "      <td>2.40</td>\n",
       "      <td>18.1</td>\n",
       "      <td>0.059</td>\n",
       "    </tr>\n",
       "  </tbody>\n",
       "</table>\n",
       "</div>"
      ],
      "text/plain": [
       "       Date      Time   Batt  SDI01  SDI07   Ana1\n",
       "0  16/12/11  10:30:00  13.43   2.44   17.6  0.060\n",
       "1  16/12/11  10:40:00  13.51   2.36   17.7  0.059\n",
       "2  16/12/11  10:50:00  13.59   2.39   17.8  0.059\n",
       "3  16/12/11  11:00:00  13.67   2.25   17.9  0.059\n",
       "4  16/12/11  11:10:00  13.67   2.40   18.1  0.059"
      ]
     },
     "execution_count": 9,
     "metadata": {},
     "output_type": "execute_result"
    }
   ],
   "source": [
    "# Loads data from CSV file to Pandas DataFrame object\n",
    "df3 = pd.read_csv('RB11_dados_concatenados.csv')\n",
    "df3.head()"
   ]
  }
 ],
 "metadata": {
  "kernelspec": {
   "display_name": "Python 3",
   "language": "python",
   "name": "python3"
  },
  "language_info": {
   "codemirror_mode": {
    "name": "ipython",
    "version": 3
   },
   "file_extension": ".py",
   "mimetype": "text/x-python",
   "name": "python",
   "nbconvert_exporter": "python",
   "pygments_lexer": "ipython3",
   "version": "3.6.1"
  }
 },
 "nbformat": 4,
 "nbformat_minor": 2
}
