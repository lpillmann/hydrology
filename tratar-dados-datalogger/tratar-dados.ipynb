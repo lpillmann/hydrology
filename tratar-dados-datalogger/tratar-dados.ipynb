{
 "cells": [
  {
   "cell_type": "markdown",
   "metadata": {},
   "source": [
    "# Tratar dados concatenados do Data Logger\n",
    "Este notebook utiliza a biblioteca Pandas para tratar os dados concatenados no notebook `concatenar-dados-datalogger`.\n",
    "\n",
    "---"
   ]
  },
  {
   "cell_type": "code",
   "execution_count": 1,
   "metadata": {
    "collapsed": true
   },
   "outputs": [],
   "source": [
    "%matplotlib inline\n",
    "\n",
    "import pandas as pd\n",
    "import numpy as np\n",
    "import matplotlib\n",
    "import matplotlib.pyplot as plt\n",
    "\n",
    "# Charts styling\n",
    "#plt.style.use('fivethirtyeight')\n",
    "#plt.style.use('bmh')\n",
    "plt.style.use('ggplot')\n",
    "from pylab import rcParams\n",
    "rcParams['figure.figsize'] = 15, 8 # increases figure size\n",
    "matplotlib.rcParams.update({'font.size': 14}) # increases chart font size\n",
    "#rcParams['font.family'] = 'Arial Narrow'"
   ]
  },
  {
   "cell_type": "markdown",
   "metadata": {},
   "source": [
    "## Dados bacia RB01"
   ]
  },
  {
   "cell_type": "markdown",
   "metadata": {},
   "source": [
    "### Tratamento e limpeza dos dados"
   ]
  },
  {
   "cell_type": "code",
   "execution_count": 2,
   "metadata": {},
   "outputs": [
    {
     "data": {
      "text/html": [
       "<div>\n",
       "<style>\n",
       "    .dataframe thead tr:only-child th {\n",
       "        text-align: right;\n",
       "    }\n",
       "\n",
       "    .dataframe thead th {\n",
       "        text-align: left;\n",
       "    }\n",
       "\n",
       "    .dataframe tbody tr th {\n",
       "        vertical-align: top;\n",
       "    }\n",
       "</style>\n",
       "<table border=\"1\" class=\"dataframe\">\n",
       "  <thead>\n",
       "    <tr style=\"text-align: right;\">\n",
       "      <th></th>\n",
       "      <th>Date</th>\n",
       "      <th>Time</th>\n",
       "      <th>Batt</th>\n",
       "      <th>SDI21</th>\n",
       "      <th>SDI22</th>\n",
       "      <th>SDI11</th>\n",
       "      <th>SDI01</th>\n",
       "      <th>SDI07</th>\n",
       "    </tr>\n",
       "  </thead>\n",
       "  <tbody>\n",
       "    <tr>\n",
       "      <th>0</th>\n",
       "      <td>16/03/11</td>\n",
       "      <td>11:30:00</td>\n",
       "      <td>12.76</td>\n",
       "      <td>1.11</td>\n",
       "      <td>4</td>\n",
       "      <td>1.02</td>\n",
       "      <td>15.0</td>\n",
       "      <td>17.8</td>\n",
       "    </tr>\n",
       "    <tr>\n",
       "      <th>1</th>\n",
       "      <td>16/03/11</td>\n",
       "      <td>11:40:00</td>\n",
       "      <td>12.76</td>\n",
       "      <td>0.00</td>\n",
       "      <td>0</td>\n",
       "      <td>1.02</td>\n",
       "      <td>15.0</td>\n",
       "      <td>17.8</td>\n",
       "    </tr>\n",
       "    <tr>\n",
       "      <th>2</th>\n",
       "      <td>16/03/11</td>\n",
       "      <td>11:50:00</td>\n",
       "      <td>13.07</td>\n",
       "      <td>0.00</td>\n",
       "      <td>0</td>\n",
       "      <td>1.02</td>\n",
       "      <td>14.0</td>\n",
       "      <td>17.8</td>\n",
       "    </tr>\n",
       "    <tr>\n",
       "      <th>3</th>\n",
       "      <td>16/03/11</td>\n",
       "      <td>12:00:00</td>\n",
       "      <td>13.15</td>\n",
       "      <td>0.00</td>\n",
       "      <td>0</td>\n",
       "      <td>1.02</td>\n",
       "      <td>14.0</td>\n",
       "      <td>17.9</td>\n",
       "    </tr>\n",
       "    <tr>\n",
       "      <th>4</th>\n",
       "      <td>16/03/11</td>\n",
       "      <td>12:10:00</td>\n",
       "      <td>12.84</td>\n",
       "      <td>0.00</td>\n",
       "      <td>0</td>\n",
       "      <td>1.02</td>\n",
       "      <td>13.0</td>\n",
       "      <td>17.9</td>\n",
       "    </tr>\n",
       "  </tbody>\n",
       "</table>\n",
       "</div>"
      ],
      "text/plain": [
       "       Date      Time   Batt  SDI21  SDI22  SDI11  SDI01  SDI07\n",
       "0  16/03/11  11:30:00  12.76   1.11      4   1.02   15.0   17.8\n",
       "1  16/03/11  11:40:00  12.76   0.00      0   1.02   15.0   17.8\n",
       "2  16/03/11  11:50:00  13.07   0.00      0   1.02   14.0   17.8\n",
       "3  16/03/11  12:00:00  13.15   0.00      0   1.02   14.0   17.9\n",
       "4  16/03/11  12:10:00  12.84   0.00      0   1.02   13.0   17.9"
      ]
     },
     "execution_count": 2,
     "metadata": {},
     "output_type": "execute_result"
    }
   ],
   "source": [
    "# Loads data from CSV file to Pandas DataFrame object\n",
    "df1 = pd.read_csv('RB01_dados_concatenados.csv')\n",
    "df1.head()"
   ]
  },
  {
   "cell_type": "markdown",
   "metadata": {},
   "source": [
    "#### Curva-chave da Bacia RB01"
   ]
  },
  {
   "cell_type": "code",
   "execution_count": 3,
   "metadata": {
    "collapsed": true
   },
   "outputs": [],
   "source": [
    "def level_to_runoff_rb01 (level):\n",
    "    \"\"\"Runoff calculation, as described by Cardoso 2013, p.48\"\"\"\n",
    "    if level <= 1.16:\n",
    "        return 3.27*level**2.6\n",
    "    \n",
    "    elif (level > 1.16) & (level <= 2.21):\n",
    "        return 3.11*level**2.93\n",
    "    \n",
    "    elif (level > 2.21): # & (level <= 2.25):\n",
    "        return 1.34*level**3.98\n",
    "        "
   ]
  },
  {
   "cell_type": "code",
   "execution_count": 4,
   "metadata": {},
   "outputs": [
    {
     "data": {
      "text/html": [
       "<div>\n",
       "<style>\n",
       "    .dataframe thead tr:only-child th {\n",
       "        text-align: right;\n",
       "    }\n",
       "\n",
       "    .dataframe thead th {\n",
       "        text-align: left;\n",
       "    }\n",
       "\n",
       "    .dataframe tbody tr th {\n",
       "        vertical-align: top;\n",
       "    }\n",
       "</style>\n",
       "<table border=\"1\" class=\"dataframe\">\n",
       "  <thead>\n",
       "    <tr style=\"text-align: right;\">\n",
       "      <th></th>\n",
       "      <th>Precipitation</th>\n",
       "      <th>Level</th>\n",
       "      <th>Datetime</th>\n",
       "      <th>Aj_level</th>\n",
       "      <th>Runoff</th>\n",
       "      <th>Year</th>\n",
       "      <th>Day_year</th>\n",
       "      <th>Hour_day</th>\n",
       "    </tr>\n",
       "  </thead>\n",
       "  <tbody>\n",
       "    <tr>\n",
       "      <th>2011-03-16 11:30:00</th>\n",
       "      <td>1.11</td>\n",
       "      <td>1.02</td>\n",
       "      <td>2011-03-16 11:30:00</td>\n",
       "      <td>0.848482</td>\n",
       "      <td>2.133136</td>\n",
       "      <td>2011</td>\n",
       "      <td>75</td>\n",
       "      <td>11.500000</td>\n",
       "    </tr>\n",
       "    <tr>\n",
       "      <th>2011-03-16 11:40:00</th>\n",
       "      <td>0.00</td>\n",
       "      <td>1.02</td>\n",
       "      <td>2011-03-16 11:40:00</td>\n",
       "      <td>0.848482</td>\n",
       "      <td>2.133136</td>\n",
       "      <td>2011</td>\n",
       "      <td>75</td>\n",
       "      <td>11.666667</td>\n",
       "    </tr>\n",
       "    <tr>\n",
       "      <th>2011-03-16 11:50:00</th>\n",
       "      <td>0.00</td>\n",
       "      <td>1.02</td>\n",
       "      <td>2011-03-16 11:50:00</td>\n",
       "      <td>0.848482</td>\n",
       "      <td>2.133136</td>\n",
       "      <td>2011</td>\n",
       "      <td>75</td>\n",
       "      <td>11.833333</td>\n",
       "    </tr>\n",
       "    <tr>\n",
       "      <th>2011-03-16 12:00:00</th>\n",
       "      <td>0.00</td>\n",
       "      <td>1.02</td>\n",
       "      <td>2011-03-16 12:00:00</td>\n",
       "      <td>0.848482</td>\n",
       "      <td>2.133136</td>\n",
       "      <td>2011</td>\n",
       "      <td>75</td>\n",
       "      <td>12.000000</td>\n",
       "    </tr>\n",
       "    <tr>\n",
       "      <th>2011-03-16 12:10:00</th>\n",
       "      <td>0.00</td>\n",
       "      <td>1.02</td>\n",
       "      <td>2011-03-16 12:10:00</td>\n",
       "      <td>0.848482</td>\n",
       "      <td>2.133136</td>\n",
       "      <td>2011</td>\n",
       "      <td>75</td>\n",
       "      <td>12.166667</td>\n",
       "    </tr>\n",
       "  </tbody>\n",
       "</table>\n",
       "</div>"
      ],
      "text/plain": [
       "                     Precipitation  Level            Datetime  Aj_level  \\\n",
       "2011-03-16 11:30:00           1.11   1.02 2011-03-16 11:30:00  0.848482   \n",
       "2011-03-16 11:40:00           0.00   1.02 2011-03-16 11:40:00  0.848482   \n",
       "2011-03-16 11:50:00           0.00   1.02 2011-03-16 11:50:00  0.848482   \n",
       "2011-03-16 12:00:00           0.00   1.02 2011-03-16 12:00:00  0.848482   \n",
       "2011-03-16 12:10:00           0.00   1.02 2011-03-16 12:10:00  0.848482   \n",
       "\n",
       "                       Runoff  Year  Day_year   Hour_day  \n",
       "2011-03-16 11:30:00  2.133136  2011        75  11.500000  \n",
       "2011-03-16 11:40:00  2.133136  2011        75  11.666667  \n",
       "2011-03-16 11:50:00  2.133136  2011        75  11.833333  \n",
       "2011-03-16 12:00:00  2.133136  2011        75  12.000000  \n",
       "2011-03-16 12:10:00  2.133136  2011        75  12.166667  "
      ]
     },
     "execution_count": 4,
     "metadata": {},
     "output_type": "execute_result"
    }
   ],
   "source": [
    "# Drops unused columns and renames some\n",
    "df1 = df1.drop(['Batt', 'SDI22', 'SDI01','SDI07'], axis=1)\n",
    "df1 = df1.rename(index=str, columns={\"SDI21\": \"Precipitation\", \"SDI11\": \"Level\"})\n",
    "\n",
    "# Manipulates DataFrame to create datetime format index\n",
    "df1['Datetime'] = df1['Date'] + ' ' + df1['Time']\n",
    "df1['Datetime'] = pd.to_datetime(df1['Datetime'], format='%d/%m/%y %H:%M:%S')\n",
    "df1 = df1.drop(['Date', 'Time'], axis=1)\n",
    "df1 = df1.set_index('Datetime', drop=False)\n",
    "df1 = df1.sort_index()\n",
    "\n",
    "# Fill the gaps by 'reindexing' from a perfectly spaced series (10min) \n",
    "idx = pd.date_range(df1.index.min(), df1.index.max(), freq='10min')\n",
    "df1 = df1.reindex(idx)\n",
    "\n",
    "# Creates an ajusted level column using auxiliary function defined here\n",
    "df1['Aj_level'] = 0.7341*df1['Level']+0.0997\n",
    "\n",
    "# Creates runoff column using auxiliary function defined above\n",
    "df1['Runoff'] = df1['Aj_level'].apply(level_to_runoff_rb01)\n",
    "\n",
    "# Creates additional necessary columns \n",
    "df1['Year'] = df1.index.year\n",
    "df1['Day_year'] = df1.index.dayofyear\n",
    "df1['Hour_day'] = df1.index.hour + df1.index.minute/60\n",
    "\n",
    "df1.head()"
   ]
  },
  {
   "cell_type": "code",
   "execution_count": 5,
   "metadata": {
    "collapsed": true
   },
   "outputs": [],
   "source": [
    "# Saves file to CSV and Excel\n",
    "#df1.to_csv('RB01_dados_limpos.csv')\n",
    "#df1.to_excel('RB01_dados_limpos.xlsx')"
   ]
  },
  {
   "cell_type": "markdown",
   "metadata": {},
   "source": [
    "### Análises"
   ]
  },
  {
   "cell_type": "code",
   "execution_count": 6,
   "metadata": {},
   "outputs": [
    {
     "data": {
      "text/html": [
       "<div>\n",
       "<style>\n",
       "    .dataframe thead tr:only-child th {\n",
       "        text-align: right;\n",
       "    }\n",
       "\n",
       "    .dataframe thead th {\n",
       "        text-align: left;\n",
       "    }\n",
       "\n",
       "    .dataframe tbody tr th {\n",
       "        vertical-align: top;\n",
       "    }\n",
       "</style>\n",
       "<table border=\"1\" class=\"dataframe\">\n",
       "  <thead>\n",
       "    <tr style=\"text-align: right;\">\n",
       "      <th></th>\n",
       "      <th>Precipitation</th>\n",
       "      <th>Level</th>\n",
       "      <th>Datetime</th>\n",
       "      <th>Aj_level</th>\n",
       "      <th>Runoff</th>\n",
       "      <th>Year</th>\n",
       "      <th>Day_year</th>\n",
       "      <th>Hour_day</th>\n",
       "    </tr>\n",
       "  </thead>\n",
       "  <tbody>\n",
       "    <tr>\n",
       "      <th>2012-01-01 00:00:00</th>\n",
       "      <td>0.0</td>\n",
       "      <td>0.83</td>\n",
       "      <td>2012-01-01 00:00:00</td>\n",
       "      <td>0.709003</td>\n",
       "      <td>1.337312</td>\n",
       "      <td>2012</td>\n",
       "      <td>1</td>\n",
       "      <td>0.000000</td>\n",
       "    </tr>\n",
       "    <tr>\n",
       "      <th>2012-01-01 00:10:00</th>\n",
       "      <td>0.0</td>\n",
       "      <td>0.83</td>\n",
       "      <td>2012-01-01 00:10:00</td>\n",
       "      <td>0.709003</td>\n",
       "      <td>1.337312</td>\n",
       "      <td>2012</td>\n",
       "      <td>1</td>\n",
       "      <td>0.166667</td>\n",
       "    </tr>\n",
       "    <tr>\n",
       "      <th>2012-01-01 00:20:00</th>\n",
       "      <td>0.0</td>\n",
       "      <td>0.83</td>\n",
       "      <td>2012-01-01 00:20:00</td>\n",
       "      <td>0.709003</td>\n",
       "      <td>1.337312</td>\n",
       "      <td>2012</td>\n",
       "      <td>1</td>\n",
       "      <td>0.333333</td>\n",
       "    </tr>\n",
       "    <tr>\n",
       "      <th>2012-01-01 00:30:00</th>\n",
       "      <td>0.0</td>\n",
       "      <td>0.83</td>\n",
       "      <td>2012-01-01 00:30:00</td>\n",
       "      <td>0.709003</td>\n",
       "      <td>1.337312</td>\n",
       "      <td>2012</td>\n",
       "      <td>1</td>\n",
       "      <td>0.500000</td>\n",
       "    </tr>\n",
       "    <tr>\n",
       "      <th>2012-01-01 00:40:00</th>\n",
       "      <td>0.0</td>\n",
       "      <td>0.82</td>\n",
       "      <td>2012-01-01 00:40:00</td>\n",
       "      <td>0.701662</td>\n",
       "      <td>1.301609</td>\n",
       "      <td>2012</td>\n",
       "      <td>1</td>\n",
       "      <td>0.666667</td>\n",
       "    </tr>\n",
       "  </tbody>\n",
       "</table>\n",
       "</div>"
      ],
      "text/plain": [
       "                     Precipitation  Level            Datetime  Aj_level  \\\n",
       "2012-01-01 00:00:00            0.0   0.83 2012-01-01 00:00:00  0.709003   \n",
       "2012-01-01 00:10:00            0.0   0.83 2012-01-01 00:10:00  0.709003   \n",
       "2012-01-01 00:20:00            0.0   0.83 2012-01-01 00:20:00  0.709003   \n",
       "2012-01-01 00:30:00            0.0   0.83 2012-01-01 00:30:00  0.709003   \n",
       "2012-01-01 00:40:00            0.0   0.82 2012-01-01 00:40:00  0.701662   \n",
       "\n",
       "                       Runoff  Year  Day_year  Hour_day  \n",
       "2012-01-01 00:00:00  1.337312  2012         1  0.000000  \n",
       "2012-01-01 00:10:00  1.337312  2012         1  0.166667  \n",
       "2012-01-01 00:20:00  1.337312  2012         1  0.333333  \n",
       "2012-01-01 00:30:00  1.337312  2012         1  0.500000  \n",
       "2012-01-01 00:40:00  1.301609  2012         1  0.666667  "
      ]
     },
     "execution_count": 6,
     "metadata": {},
     "output_type": "execute_result"
    }
   ],
   "source": [
    "df = df1  # Makes a copy (to the rescue, here I am!)\n",
    "df = df.loc['2012-01-01':'2013-12-31']  # Filters by date\n",
    "df.head()"
   ]
  },
  {
   "cell_type": "code",
   "execution_count": 7,
   "metadata": {
    "collapsed": true
   },
   "outputs": [],
   "source": [
    "#df[['Precipitation', 'Runoff']].plot()"
   ]
  },
  {
   "cell_type": "code",
   "execution_count": 8,
   "metadata": {},
   "outputs": [
    {
     "data": {
      "image/png": "[encoded data removed]",
      "text/plain": [
       "<matplotlib.figure.Figure at 0x114c1de80>"
      ]
     },
     "metadata": {},
     "output_type": "display_data"
    }
   ],
   "source": [
    "# Procedure to handle secondary Y axis\n",
    "fig0, ax0 = plt.subplots()\n",
    "ax1 = ax0.twinx()\n",
    "\n",
    "y0 = df['Precipitation'].plot(ax=ax0)\n",
    "y1 = df['Runoff'].plot(secondary_y=True, style='b', ax=ax1)\n",
    "y0.legend(loc=2) # bar legend to the left\n",
    "y1.legend(loc=0) # line legend to the right\n",
    "\n",
    "plt.title('Precipitação vs. Vazão', fontsize=14)\n",
    "plt.show()\n",
    "plt.close()"
   ]
  },
  {
   "cell_type": "code",
   "execution_count": 9,
   "metadata": {},
   "outputs": [
    {
     "data": {
      "text/plain": [
       "<matplotlib.axes._subplots.AxesSubplot at 0x114c1d860>"
      ]
     },
     "execution_count": 9,
     "metadata": {},
     "output_type": "execute_result"
    },
    {
     "data": {
      "image/png": "[encoded data removed]",
      "text/plain": [
       "<matplotlib.figure.Figure at 0x114c18cc0>"
      ]
     },
     "metadata": {},
     "output_type": "display_data"
    }
   ],
   "source": [
    "df['Runoff'].plot()"
   ]
  },
  {
   "cell_type": "code",
   "execution_count": 10,
   "metadata": {},
   "outputs": [
    {
     "data": {
      "text/plain": [
       "count    98167.000000\n",
       "mean         4.144076\n",
       "std         25.805027\n",
       "min          0.282762\n",
       "25%          0.554521\n",
       "50%          0.852691\n",
       "75%          1.473291\n",
       "max        621.359879\n",
       "Name: Runoff, dtype: float64"
      ]
     },
     "execution_count": 10,
     "metadata": {},
     "output_type": "execute_result"
    }
   ],
   "source": [
    "df['Runoff'].describe()"
   ]
  },
  {
   "cell_type": "code",
   "execution_count": 11,
   "metadata": {},
   "outputs": [
    {
     "data": {
      "text/plain": [
       "count    98167.000000\n",
       "mean         0.834525\n",
       "std          0.569344\n",
       "min          0.395500\n",
       "25%          0.552600\n",
       "50%          0.676500\n",
       "75%          0.866650\n",
       "max          6.234400\n",
       "Name: Level, dtype: float64"
      ]
     },
     "execution_count": 11,
     "metadata": {},
     "output_type": "execute_result"
    }
   ],
   "source": [
    "df['Level'].describe()"
   ]
  },
  {
   "cell_type": "code",
   "execution_count": null,
   "metadata": {
    "collapsed": true
   },
   "outputs": [],
   "source": []
  },
  {
   "cell_type": "code",
   "execution_count": null,
   "metadata": {
    "collapsed": true
   },
   "outputs": [],
   "source": []
  },
  {
   "cell_type": "code",
   "execution_count": null,
   "metadata": {
    "collapsed": true
   },
   "outputs": [],
   "source": []
  },
  {
   "cell_type": "code",
   "execution_count": null,
   "metadata": {
    "collapsed": true
   },
   "outputs": [],
   "source": []
  },
  {
   "cell_type": "code",
   "execution_count": null,
   "metadata": {
    "collapsed": true
   },
   "outputs": [],
   "source": []
  },
  {
   "cell_type": "code",
   "execution_count": null,
   "metadata": {
    "collapsed": true
   },
   "outputs": [],
   "source": []
  },
  {
   "cell_type": "markdown",
   "metadata": {},
   "source": [
    "## Dados bacia RB10"
   ]
  },
  {
   "cell_type": "code",
   "execution_count": 12,
   "metadata": {
    "scrolled": true
   },
   "outputs": [
    {
     "data": {
      "text/html": [
       "<div>\n",
       "<style>\n",
       "    .dataframe thead tr:only-child th {\n",
       "        text-align: right;\n",
       "    }\n",
       "\n",
       "    .dataframe thead th {\n",
       "        text-align: left;\n",
       "    }\n",
       "\n",
       "    .dataframe tbody tr th {\n",
       "        vertical-align: top;\n",
       "    }\n",
       "</style>\n",
       "<table border=\"1\" class=\"dataframe\">\n",
       "  <thead>\n",
       "    <tr style=\"text-align: right;\">\n",
       "      <th></th>\n",
       "      <th>Date</th>\n",
       "      <th>Time</th>\n",
       "      <th>Batt</th>\n",
       "      <th>SDI01</th>\n",
       "      <th>SDI07</th>\n",
       "      <th>Ana1</th>\n",
       "    </tr>\n",
       "  </thead>\n",
       "  <tbody>\n",
       "    <tr>\n",
       "      <th>0</th>\n",
       "      <td>16/12/11</td>\n",
       "      <td>13:10:00</td>\n",
       "      <td>14.08</td>\n",
       "      <td>2.92</td>\n",
       "      <td>20.6</td>\n",
       "      <td>0.092</td>\n",
       "    </tr>\n",
       "    <tr>\n",
       "      <th>1</th>\n",
       "      <td>16/12/11</td>\n",
       "      <td>13:20:00</td>\n",
       "      <td>14.08</td>\n",
       "      <td>3.41</td>\n",
       "      <td>20.7</td>\n",
       "      <td>0.091</td>\n",
       "    </tr>\n",
       "    <tr>\n",
       "      <th>2</th>\n",
       "      <td>16/12/11</td>\n",
       "      <td>13:30:00</td>\n",
       "      <td>14.08</td>\n",
       "      <td>2.66</td>\n",
       "      <td>20.9</td>\n",
       "      <td>0.091</td>\n",
       "    </tr>\n",
       "    <tr>\n",
       "      <th>3</th>\n",
       "      <td>16/12/11</td>\n",
       "      <td>13:40:00</td>\n",
       "      <td>13.92</td>\n",
       "      <td>3.23</td>\n",
       "      <td>21.0</td>\n",
       "      <td>0.091</td>\n",
       "    </tr>\n",
       "    <tr>\n",
       "      <th>4</th>\n",
       "      <td>16/12/11</td>\n",
       "      <td>13:50:00</td>\n",
       "      <td>14.08</td>\n",
       "      <td>2.89</td>\n",
       "      <td>20.7</td>\n",
       "      <td>0.092</td>\n",
       "    </tr>\n",
       "  </tbody>\n",
       "</table>\n",
       "</div>"
      ],
      "text/plain": [
       "       Date      Time   Batt  SDI01  SDI07   Ana1\n",
       "0  16/12/11  13:10:00  14.08   2.92   20.6  0.092\n",
       "1  16/12/11  13:20:00  14.08   3.41   20.7  0.091\n",
       "2  16/12/11  13:30:00  14.08   2.66   20.9  0.091\n",
       "3  16/12/11  13:40:00  13.92   3.23   21.0  0.091\n",
       "4  16/12/11  13:50:00  14.08   2.89   20.7  0.092"
      ]
     },
     "execution_count": 12,
     "metadata": {},
     "output_type": "execute_result"
    }
   ],
   "source": [
    "# Loads data from CSV file to Pandas DataFrame object\n",
    "df2 = pd.read_csv('RB10_dados_concatenados.csv')\n",
    "df2.head()"
   ]
  },
  {
   "cell_type": "markdown",
   "metadata": {},
   "source": [
    "#### Curva-chave bacia RB10"
   ]
  },
  {
   "cell_type": "code",
   "execution_count": 13,
   "metadata": {
    "collapsed": true
   },
   "outputs": [],
   "source": [
    "def level_to_runoff_rb10 (level):\n",
    "    \"\"\"Runoff calculation, as described by Cardoso 2013, p.48\"\"\"\n",
    "    if level <= 0.98:\n",
    "        return 2.51*level**2.04\n",
    "    \n",
    "    elif (level > 0.98) & (level <= 1.22):\n",
    "        return 3.94*level-1.43\n",
    "    \n",
    "    elif (level > 1.22): # & (level <= 1.35):\n",
    "        return 2.03*level**2.59"
   ]
  },
  {
   "cell_type": "code",
   "execution_count": 14,
   "metadata": {},
   "outputs": [
    {
     "data": {
      "text/html": [
       "<div>\n",
       "<style>\n",
       "    .dataframe thead tr:only-child th {\n",
       "        text-align: right;\n",
       "    }\n",
       "\n",
       "    .dataframe thead th {\n",
       "        text-align: left;\n",
       "    }\n",
       "\n",
       "    .dataframe tbody tr th {\n",
       "        vertical-align: top;\n",
       "    }\n",
       "</style>\n",
       "<table border=\"1\" class=\"dataframe\">\n",
       "  <thead>\n",
       "    <tr style=\"text-align: right;\">\n",
       "      <th></th>\n",
       "      <th>Level</th>\n",
       "      <th>Datetime</th>\n",
       "      <th>Aj_level</th>\n",
       "      <th>Runoff</th>\n",
       "      <th>Year</th>\n",
       "      <th>Day_year</th>\n",
       "      <th>Hour_day</th>\n",
       "    </tr>\n",
       "  </thead>\n",
       "  <tbody>\n",
       "    <tr>\n",
       "      <th>2011-12-16 13:10:00</th>\n",
       "      <td>0.092</td>\n",
       "      <td>2011-12-16 13:10:00</td>\n",
       "      <td>0.167237</td>\n",
       "      <td>0.065354</td>\n",
       "      <td>2011</td>\n",
       "      <td>350</td>\n",
       "      <td>13.166667</td>\n",
       "    </tr>\n",
       "    <tr>\n",
       "      <th>2011-12-16 13:20:00</th>\n",
       "      <td>0.091</td>\n",
       "      <td>2011-12-16 13:20:00</td>\n",
       "      <td>0.166503</td>\n",
       "      <td>0.064770</td>\n",
       "      <td>2011</td>\n",
       "      <td>350</td>\n",
       "      <td>13.333333</td>\n",
       "    </tr>\n",
       "    <tr>\n",
       "      <th>2011-12-16 13:30:00</th>\n",
       "      <td>0.091</td>\n",
       "      <td>2011-12-16 13:30:00</td>\n",
       "      <td>0.166503</td>\n",
       "      <td>0.064770</td>\n",
       "      <td>2011</td>\n",
       "      <td>350</td>\n",
       "      <td>13.500000</td>\n",
       "    </tr>\n",
       "    <tr>\n",
       "      <th>2011-12-16 13:40:00</th>\n",
       "      <td>0.091</td>\n",
       "      <td>2011-12-16 13:40:00</td>\n",
       "      <td>0.166503</td>\n",
       "      <td>0.064770</td>\n",
       "      <td>2011</td>\n",
       "      <td>350</td>\n",
       "      <td>13.666667</td>\n",
       "    </tr>\n",
       "    <tr>\n",
       "      <th>2011-12-16 13:50:00</th>\n",
       "      <td>0.092</td>\n",
       "      <td>2011-12-16 13:50:00</td>\n",
       "      <td>0.167237</td>\n",
       "      <td>0.065354</td>\n",
       "      <td>2011</td>\n",
       "      <td>350</td>\n",
       "      <td>13.833333</td>\n",
       "    </tr>\n",
       "  </tbody>\n",
       "</table>\n",
       "</div>"
      ],
      "text/plain": [
       "                     Level            Datetime  Aj_level    Runoff  Year  \\\n",
       "2011-12-16 13:10:00  0.092 2011-12-16 13:10:00  0.167237  0.065354  2011   \n",
       "2011-12-16 13:20:00  0.091 2011-12-16 13:20:00  0.166503  0.064770  2011   \n",
       "2011-12-16 13:30:00  0.091 2011-12-16 13:30:00  0.166503  0.064770  2011   \n",
       "2011-12-16 13:40:00  0.091 2011-12-16 13:40:00  0.166503  0.064770  2011   \n",
       "2011-12-16 13:50:00  0.092 2011-12-16 13:50:00  0.167237  0.065354  2011   \n",
       "\n",
       "                     Day_year   Hour_day  \n",
       "2011-12-16 13:10:00       350  13.166667  \n",
       "2011-12-16 13:20:00       350  13.333333  \n",
       "2011-12-16 13:30:00       350  13.500000  \n",
       "2011-12-16 13:40:00       350  13.666667  \n",
       "2011-12-16 13:50:00       350  13.833333  "
      ]
     },
     "execution_count": 14,
     "metadata": {},
     "output_type": "execute_result"
    }
   ],
   "source": [
    "# Drops unused columns and renames some\n",
    "df2 = df2.drop(['Batt', 'SDI01','SDI07'], axis=1)\n",
    "df2 = df2.rename(index=str, columns={ \"Ana1\": \"Level\"})\n",
    "\n",
    "# Manipulates DataFrame to create datetime format index\n",
    "df2['Datetime'] = df2['Date'] + ' ' + df2['Time']\n",
    "df2['Datetime'] = pd.to_datetime(df2['Datetime'], format='%d/%m/%y %H:%M:%S')\n",
    "df2 = df2.drop(['Date', 'Time'], axis=1)\n",
    "df2 = df2.set_index('Datetime', drop=False)\n",
    "df2 = df2.sort_index()\n",
    "\n",
    "# Fill the gaps by 'reindexing' from a perfectly spaced series (10min) \n",
    "idx = pd.date_range(df2.index.min(), df2.index.max(), freq='10min')\n",
    "df2 = df2.reindex(idx)\n",
    "\n",
    "# Creates an ajusted level column using auxiliary function defined here\n",
    "df2['Aj_level'] = 0.7341*df2['Level']+0.0997\n",
    "\n",
    "# Creates runoff column using auxiliary function defined above\n",
    "df2['Runoff'] = df2['Aj_level'].apply(level_to_runoff_rb10)\n",
    "\n",
    "# Creates additional necessary columns \n",
    "df2['Year'] = df2.index.year\n",
    "df2['Day_year'] = df2.index.dayofyear\n",
    "df2['Hour_day'] = df2.index.hour + df2.index.minute/60\n",
    "\n",
    "df2.head()"
   ]
  },
  {
   "cell_type": "markdown",
   "metadata": {},
   "source": []
  },
  {
   "cell_type": "code",
   "execution_count": null,
   "metadata": {
    "collapsed": true
   },
   "outputs": [],
   "source": []
  },
  {
   "cell_type": "code",
   "execution_count": 15,
   "metadata": {
    "collapsed": true
   },
   "outputs": [],
   "source": [
    "rb10 = df2"
   ]
  },
  {
   "cell_type": "code",
   "execution_count": 16,
   "metadata": {},
   "outputs": [
    {
     "data": {
      "text/plain": [
       "<matplotlib.axes._subplots.AxesSubplot at 0x11f5a3400>"
      ]
     },
     "execution_count": 16,
     "metadata": {},
     "output_type": "execute_result"
    },
    {
     "data": {
      "image/png": "[encoded data removed]",
      "text/plain": [
       "<matplotlib.figure.Figure at 0x11cf2db38>"
      ]
     },
     "metadata": {},
     "output_type": "display_data"
    }
   ],
   "source": [
    "rb10['Runoff'].plot()"
   ]
  },
  {
   "cell_type": "code",
   "execution_count": null,
   "metadata": {
    "collapsed": true
   },
   "outputs": [],
   "source": []
  },
  {
   "cell_type": "code",
   "execution_count": null,
   "metadata": {
    "collapsed": true
   },
   "outputs": [],
   "source": []
  },
  {
   "cell_type": "code",
   "execution_count": null,
   "metadata": {
    "collapsed": true
   },
   "outputs": [],
   "source": []
  },
  {
   "cell_type": "markdown",
   "metadata": {},
   "source": [
    "## Dados bacia RB11"
   ]
  },
  {
   "cell_type": "code",
   "execution_count": 17,
   "metadata": {
    "scrolled": true
   },
   "outputs": [
    {
     "data": {
      "text/html": [
       "<div>\n",
       "<style>\n",
       "    .dataframe thead tr:only-child th {\n",
       "        text-align: right;\n",
       "    }\n",
       "\n",
       "    .dataframe thead th {\n",
       "        text-align: left;\n",
       "    }\n",
       "\n",
       "    .dataframe tbody tr th {\n",
       "        vertical-align: top;\n",
       "    }\n",
       "</style>\n",
       "<table border=\"1\" class=\"dataframe\">\n",
       "  <thead>\n",
       "    <tr style=\"text-align: right;\">\n",
       "      <th></th>\n",
       "      <th>Date</th>\n",
       "      <th>Time</th>\n",
       "      <th>Batt</th>\n",
       "      <th>SDI01</th>\n",
       "      <th>SDI07</th>\n",
       "      <th>Ana1</th>\n",
       "    </tr>\n",
       "  </thead>\n",
       "  <tbody>\n",
       "    <tr>\n",
       "      <th>0</th>\n",
       "      <td>16/12/11</td>\n",
       "      <td>10:30:00</td>\n",
       "      <td>13.43</td>\n",
       "      <td>2.44</td>\n",
       "      <td>17.6</td>\n",
       "      <td>0.060</td>\n",
       "    </tr>\n",
       "    <tr>\n",
       "      <th>1</th>\n",
       "      <td>16/12/11</td>\n",
       "      <td>10:40:00</td>\n",
       "      <td>13.51</td>\n",
       "      <td>2.36</td>\n",
       "      <td>17.7</td>\n",
       "      <td>0.059</td>\n",
       "    </tr>\n",
       "    <tr>\n",
       "      <th>2</th>\n",
       "      <td>16/12/11</td>\n",
       "      <td>10:50:00</td>\n",
       "      <td>13.59</td>\n",
       "      <td>2.39</td>\n",
       "      <td>17.8</td>\n",
       "      <td>0.059</td>\n",
       "    </tr>\n",
       "    <tr>\n",
       "      <th>3</th>\n",
       "      <td>16/12/11</td>\n",
       "      <td>11:00:00</td>\n",
       "      <td>13.67</td>\n",
       "      <td>2.25</td>\n",
       "      <td>17.9</td>\n",
       "      <td>0.059</td>\n",
       "    </tr>\n",
       "    <tr>\n",
       "      <th>4</th>\n",
       "      <td>16/12/11</td>\n",
       "      <td>11:10:00</td>\n",
       "      <td>13.67</td>\n",
       "      <td>2.40</td>\n",
       "      <td>18.1</td>\n",
       "      <td>0.059</td>\n",
       "    </tr>\n",
       "  </tbody>\n",
       "</table>\n",
       "</div>"
      ],
      "text/plain": [
       "       Date      Time   Batt  SDI01  SDI07   Ana1\n",
       "0  16/12/11  10:30:00  13.43   2.44   17.6  0.060\n",
       "1  16/12/11  10:40:00  13.51   2.36   17.7  0.059\n",
       "2  16/12/11  10:50:00  13.59   2.39   17.8  0.059\n",
       "3  16/12/11  11:00:00  13.67   2.25   17.9  0.059\n",
       "4  16/12/11  11:10:00  13.67   2.40   18.1  0.059"
      ]
     },
     "execution_count": 17,
     "metadata": {},
     "output_type": "execute_result"
    }
   ],
   "source": [
    "# Loads data from CSV file to Pandas DataFrame object\n",
    "df3 = pd.read_csv('RB11_dados_concatenados.csv')\n",
    "df3.head()"
   ]
  },
  {
   "cell_type": "markdown",
   "metadata": {},
   "source": [
    "#### Curva-chave RB11"
   ]
  },
  {
   "cell_type": "code",
   "execution_count": 18,
   "metadata": {
    "collapsed": true
   },
   "outputs": [],
   "source": [
    "def level_to_runoff_rb11 (level):\n",
    "    \"\"\"Runoff calculation, as described by Cardoso 2013, p.48\"\"\"\n",
    "    if level <= 0.76:\n",
    "        return 1.61*level**1.84\n",
    "    \n",
    "    elif (level > 0.76): # & (level <= 1.22):\n",
    "        return 1.79*level**2.00\n",
    "    \n"
   ]
  },
  {
   "cell_type": "code",
   "execution_count": 19,
   "metadata": {},
   "outputs": [
    {
     "data": {
      "text/html": [
       "<div>\n",
       "<style>\n",
       "    .dataframe thead tr:only-child th {\n",
       "        text-align: right;\n",
       "    }\n",
       "\n",
       "    .dataframe thead th {\n",
       "        text-align: left;\n",
       "    }\n",
       "\n",
       "    .dataframe tbody tr th {\n",
       "        vertical-align: top;\n",
       "    }\n",
       "</style>\n",
       "<table border=\"1\" class=\"dataframe\">\n",
       "  <thead>\n",
       "    <tr style=\"text-align: right;\">\n",
       "      <th></th>\n",
       "      <th>Level</th>\n",
       "      <th>Datetime</th>\n",
       "      <th>Aj_level</th>\n",
       "      <th>Runoff</th>\n",
       "      <th>Year</th>\n",
       "      <th>Day_year</th>\n",
       "      <th>Hour_day</th>\n",
       "    </tr>\n",
       "  </thead>\n",
       "  <tbody>\n",
       "    <tr>\n",
       "      <th>2011-12-16 10:30:00</th>\n",
       "      <td>0.060</td>\n",
       "      <td>2011-12-16 10:30:00</td>\n",
       "      <td>0.143746</td>\n",
       "      <td>0.047992</td>\n",
       "      <td>2011</td>\n",
       "      <td>350</td>\n",
       "      <td>10.500000</td>\n",
       "    </tr>\n",
       "    <tr>\n",
       "      <th>2011-12-16 10:40:00</th>\n",
       "      <td>0.059</td>\n",
       "      <td>2011-12-16 10:40:00</td>\n",
       "      <td>0.143012</td>\n",
       "      <td>0.047493</td>\n",
       "      <td>2011</td>\n",
       "      <td>350</td>\n",
       "      <td>10.666667</td>\n",
       "    </tr>\n",
       "    <tr>\n",
       "      <th>2011-12-16 10:50:00</th>\n",
       "      <td>0.059</td>\n",
       "      <td>2011-12-16 10:50:00</td>\n",
       "      <td>0.143012</td>\n",
       "      <td>0.047493</td>\n",
       "      <td>2011</td>\n",
       "      <td>350</td>\n",
       "      <td>10.833333</td>\n",
       "    </tr>\n",
       "    <tr>\n",
       "      <th>2011-12-16 11:00:00</th>\n",
       "      <td>0.059</td>\n",
       "      <td>2011-12-16 11:00:00</td>\n",
       "      <td>0.143012</td>\n",
       "      <td>0.047493</td>\n",
       "      <td>2011</td>\n",
       "      <td>350</td>\n",
       "      <td>11.000000</td>\n",
       "    </tr>\n",
       "    <tr>\n",
       "      <th>2011-12-16 11:10:00</th>\n",
       "      <td>0.059</td>\n",
       "      <td>2011-12-16 11:10:00</td>\n",
       "      <td>0.143012</td>\n",
       "      <td>0.047493</td>\n",
       "      <td>2011</td>\n",
       "      <td>350</td>\n",
       "      <td>11.166667</td>\n",
       "    </tr>\n",
       "  </tbody>\n",
       "</table>\n",
       "</div>"
      ],
      "text/plain": [
       "                     Level            Datetime  Aj_level    Runoff  Year  \\\n",
       "2011-12-16 10:30:00  0.060 2011-12-16 10:30:00  0.143746  0.047992  2011   \n",
       "2011-12-16 10:40:00  0.059 2011-12-16 10:40:00  0.143012  0.047493  2011   \n",
       "2011-12-16 10:50:00  0.059 2011-12-16 10:50:00  0.143012  0.047493  2011   \n",
       "2011-12-16 11:00:00  0.059 2011-12-16 11:00:00  0.143012  0.047493  2011   \n",
       "2011-12-16 11:10:00  0.059 2011-12-16 11:10:00  0.143012  0.047493  2011   \n",
       "\n",
       "                     Day_year   Hour_day  \n",
       "2011-12-16 10:30:00       350  10.500000  \n",
       "2011-12-16 10:40:00       350  10.666667  \n",
       "2011-12-16 10:50:00       350  10.833333  \n",
       "2011-12-16 11:00:00       350  11.000000  \n",
       "2011-12-16 11:10:00       350  11.166667  "
      ]
     },
     "execution_count": 19,
     "metadata": {},
     "output_type": "execute_result"
    }
   ],
   "source": [
    "# Drops unused columns and renames some\n",
    "df3 = df3.drop(['Batt', 'SDI01','SDI07'], axis=1)\n",
    "df3 = df3.rename(index=str, columns={ \"Ana1\": \"Level\"})\n",
    "\n",
    "# Manipulates DataFrame to create datetime format index\n",
    "df3['Datetime'] = df3['Date'] + ' ' + df3['Time']\n",
    "df3['Datetime'] = pd.to_datetime(df3['Datetime'], format='%d/%m/%y %H:%M:%S')\n",
    "df3 = df3.drop(['Date', 'Time'], axis=1)\n",
    "df3 = df3.set_index('Datetime', drop=False)\n",
    "df3 = df3.sort_index()\n",
    "\n",
    "# Fill the gaps by 'reindexing' from a perfectly spaced series (10min) \n",
    "idx = pd.date_range(df3.index.min(), df3.index.max(), freq='10min')\n",
    "df3 = df3.reindex(idx)\n",
    "\n",
    "# Creates an ajusted level column using auxiliary function defined here\n",
    "df3['Aj_level'] = 0.7341*df3['Level']+0.0997\n",
    "\n",
    "# Creates runoff column using auxiliary function defined above\n",
    "df3['Runoff'] = df3['Aj_level'].apply(level_to_runoff_rb10)\n",
    "\n",
    "# Creates additional necessary columns \n",
    "df3['Year'] = df3.index.year\n",
    "df3['Day_year'] = df3.index.dayofyear\n",
    "df3['Hour_day'] = df3.index.hour + df3.index.minute/60\n",
    "\n",
    "df3.head()"
   ]
  },
  {
   "cell_type": "code",
   "execution_count": 20,
   "metadata": {},
   "outputs": [
    {
     "data": {
      "text/plain": [
       "<matplotlib.axes._subplots.AxesSubplot at 0x11fda0cc0>"
      ]
     },
     "execution_count": 20,
     "metadata": {},
     "output_type": "execute_result"
    },
    {
     "data": {
      "image/png": "[encoded data removed]",
      "text/plain": [
       "<matplotlib.figure.Figure at 0x1258ba4a8>"
      ]
     },
     "metadata": {},
     "output_type": "display_data"
    }
   ],
   "source": [
    "df3['Runoff'].plot()"
   ]
  },
  {
   "cell_type": "code",
   "execution_count": null,
   "metadata": {
    "collapsed": true
   },
   "outputs": [],
   "source": []
  }
 ],
 "metadata": {
  "kernelspec": {
   "display_name": "Python 3",
   "language": "python",
   "name": "python3"
  },
  "language_info": {
   "codemirror_mode": {
    "name": "ipython",
    "version": 3
   },
   "file_extension": ".py",
   "mimetype": "text/x-python",
   "name": "python",
   "nbconvert_exporter": "python",
   "pygments_lexer": "ipython3",
   "version": "3.6.1"
  }
 },
 "nbformat": 4,
 "nbformat_minor": 2
}
